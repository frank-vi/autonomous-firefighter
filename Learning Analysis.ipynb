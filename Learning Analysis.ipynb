{
 "cells": [
  {
   "cell_type": "markdown",
   "metadata": {},
   "source": [
    "# Average Reward Analysis"
   ]
  },
  {
   "cell_type": "code",
   "execution_count": 3,
   "metadata": {},
   "outputs": [],
   "source": [
    "%matplotlib qt\n",
    "import matplotlib.pyplot as plt\n",
    "from matplotlib.animation import FuncAnimation\n",
    "import pandas as pd\n",
    "import statistics\n",
    "import math\n",
    "\n",
    "\n",
    "def average_reward(df):\n",
    "    return statistics.mean(df['reward'])\n",
    "\n",
    "def rewards(dfs):\n",
    "    d=dfs.index[dfs['step'] == 1]\n",
    "    return [average_reward(dfs.iloc[start:end]) for (start, end) in zip(d[:-1], d[1:])]\n",
    "\n",
    "try:\n",
    "    data = pd.read_csv(\"analysis.csv\")\n",
    "    y = rewards(data)\n",
    "    x = list(range(1, len(y)+1))\n",
    "\n",
    "    plt.clf()\n",
    "    plt.plot(x, y, color='blue', marker='.')\n",
    "\n",
    "    plt.xlabel(\"episodes\")\n",
    "    plt.ylabel(\"average reward\")\n",
    "\n",
    "    plt.tight_layout()\n",
    "    plt.show()\n",
    "        \n",
    "except FileNotFoundError:\n",
    "    print(\"File not exist!\")\n",
    "except pd.errors.EmptyDataError:\n",
    "    print(\"File empty!\")\n"
   ]
  }
 ],
 "metadata": {
  "kernelspec": {
   "display_name": "Python 3",
   "language": "python",
   "name": "python3"
  },
  "language_info": {
   "codemirror_mode": {
    "name": "ipython",
    "version": 3
   },
   "file_extension": ".py",
   "mimetype": "text/x-python",
   "name": "python",
   "nbconvert_exporter": "python",
   "pygments_lexer": "ipython3",
   "version": "3.7.6"
  }
 },
 "nbformat": 4,
 "nbformat_minor": 5
}
