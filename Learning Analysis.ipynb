{
 "cells": [
  {
   "cell_type": "markdown",
   "id": "07a696b1",
   "metadata": {},
   "source": [
    "# Average Rewards Plotting"
   ]
  },
  {
   "cell_type": "code",
   "execution_count": 1,
   "id": "10ac80d3",
   "metadata": {},
   "outputs": [],
   "source": [
    "%matplotlib qt\n",
    "import matplotlib.pyplot as plt\n",
    "from matplotlib.animation import FuncAnimation\n",
    "import pandas as pd\n",
    "import statistics\n",
    "import math\n",
    "\n",
    "steps_per_episode = 599\n",
    "\n",
    "def average_reward(df):\n",
    "    return statistics.mean(df['reward'])\n",
    "\n",
    "def splitting_indices(steps_per_episode, steps):\n",
    "    return range(steps_per_episode, steps+1, steps_per_episode)\n",
    "\n",
    "def dataframe_split(df, start, to):\n",
    "    return df.iloc[to-start:to]\n",
    "\n",
    "def rewards(dfs, steps_per_episode, total_steps):\n",
    "    indices = splitting_indices(steps_per_episode, total_steps)\n",
    "    return map(lambda x: average_reward(dataframe_split(dfs, steps_per_episode, x)), indices)\n",
    "\n",
    "def animate(i):\n",
    "    try:\n",
    "        data = pd.read_csv(\"analysis.csv\")\n",
    "\n",
    "        if data.empty:\n",
    "            print(\"File empty: waiting for data!\")\n",
    "        else:\n",
    "            total_steps = data.index.stop\n",
    "            episodes = math.floor(total_steps/steps_per_episode)\n",
    "\n",
    "            x = list(range(1, episodes+1))\n",
    "            y = list(rewards(data, steps_per_episode, total_steps))\n",
    "\n",
    "            plt.clf()\n",
    "            \n",
    "            plt.plot(x, y, color='blue', marker=None if len(x) > 1 else '.')\n",
    "                \n",
    "            plt.xlabel(\"episodes\")\n",
    "            plt.ylabel(\"average rewards\")\n",
    "\n",
    "            plt.tight_layout()\n",
    "    \n",
    "    except FileNotFoundError:\n",
    "        print(\"File not exist: waiting for data!\")\n",
    "    except pd.errors.EmptyDataError:\n",
    "        print(\"File empty: waiting for data!\")\n",
    "\n",
    "        \n",
    "ani = FuncAnimation(plt.gcf(), animate, interval=1000)\n",
    "\n",
    "plt.tight_layout()\n",
    "plt.show()"
   ]
  }
 ],
 "metadata": {
  "kernelspec": {
   "display_name": "Python 3 (ipykernel)",
   "language": "python",
   "name": "python3"
  },
  "language_info": {
   "codemirror_mode": {
    "name": "ipython",
    "version": 3
   },
   "file_extension": ".py",
   "mimetype": "text/x-python",
   "name": "python",
   "nbconvert_exporter": "python",
   "pygments_lexer": "ipython3",
   "version": "3.9.7"
  }
 },
 "nbformat": 4,
 "nbformat_minor": 5
}
